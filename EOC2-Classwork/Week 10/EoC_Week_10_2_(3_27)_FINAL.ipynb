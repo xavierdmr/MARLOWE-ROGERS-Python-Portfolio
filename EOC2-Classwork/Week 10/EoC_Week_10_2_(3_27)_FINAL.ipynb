{
  "cells": [
    {
      "cell_type": "markdown",
      "id": "d27a1cb0",
      "metadata": {
        "id": "d27a1cb0"
      },
      "source": [
        "## A. Tokenization in Standard Python Library\n",
        "In this section, we explore the basic way to tokenize text using Python's built-in `split()` method.\n",
        "While `split()` provides a simple approach, it has limitations in handling edge cases such as punctuation, contractions, and complex linguistic structures."
      ]
    },
    {
      "cell_type": "code",
      "execution_count": 2,
      "id": "63fb7dae",
      "metadata": {
        "id": "63fb7dae"
      },
      "outputs": [],
      "source": [
        "# Example text for tokenization\n",
        "text = (\n",
        "    \"\"\"At the annual global summit in Paris,\n",
        "    French President Emmanuel Macron and\n",
        "    German Chancellor Angela Merkel\n",
        "    met with executives from Google,\n",
        "    Amazon, and Facebook to discuss innovations\n",
        "    in artificial intelligence.\"\"\"\n",
        ")"
      ]
    },
    {
      "cell_type": "code",
      "execution_count": 3,
      "id": "46385ede",
      "metadata": {
        "colab": {
          "base_uri": "https://localhost:8080/"
        },
        "id": "46385ede",
        "outputId": "f4721b74-4620-4019-890c-b6eca02bc79f"
      },
      "outputs": [
        {
          "output_type": "stream",
          "name": "stdout",
          "text": [
            "['At', 'the', 'annual', 'global', 'summit', 'in', 'Paris,', 'French', 'President', 'Emmanuel', 'Macron', 'and', 'German', 'Chancellor', 'Angela', 'Merkel', 'met', 'with', 'executives', 'from', 'Google,', 'Amazon,', 'and', 'Facebook', 'to', 'discuss', 'innovations', 'in', 'artificial', 'intelligence.']\n"
          ]
        }
      ],
      "source": [
        "# Tokenization using split()\n",
        "tokens_split = text.split()\n",
        "print(tokens_split)\n",
        "# Note: Notice how punctuation remains attached to words like 'time,' or 'un-discovered'."
      ]
    },
    {
      "cell_type": "markdown",
      "id": "0d999cda",
      "metadata": {
        "id": "0d999cda"
      },
      "source": [
        "## B. Tokenization in spaCy\n",
        "The `spaCy` library provides advanced tokenization capabilities using statistical models. It is faster, robust, and handles edge cases better than simple rule-based approaches."
      ]
    },
    {
      "cell_type": "code",
      "source": [
        "# Installing the spaCy library\n",
        "!pip install spacy\n",
        "\n",
        "# Installing the small English language model used by spaCy\n",
        "!python -m spacy download en_core_web_sm"
      ],
      "metadata": {
        "id": "atc_t5-olUzL",
        "colab": {
          "base_uri": "https://localhost:8080/"
        },
        "outputId": "02475b4c-5bb5-49da-f26c-9b3c562e6173"
      },
      "id": "atc_t5-olUzL",
      "execution_count": 4,
      "outputs": [
        {
          "output_type": "stream",
          "name": "stdout",
          "text": [
            "Requirement already satisfied: spacy in /usr/local/lib/python3.11/dist-packages (3.8.4)\n",
            "Requirement already satisfied: spacy-legacy<3.1.0,>=3.0.11 in /usr/local/lib/python3.11/dist-packages (from spacy) (3.0.12)\n",
            "Requirement already satisfied: spacy-loggers<2.0.0,>=1.0.0 in /usr/local/lib/python3.11/dist-packages (from spacy) (1.0.5)\n",
            "Requirement already satisfied: murmurhash<1.1.0,>=0.28.0 in /usr/local/lib/python3.11/dist-packages (from spacy) (1.0.12)\n",
            "Requirement already satisfied: cymem<2.1.0,>=2.0.2 in /usr/local/lib/python3.11/dist-packages (from spacy) (2.0.11)\n",
            "Requirement already satisfied: preshed<3.1.0,>=3.0.2 in /usr/local/lib/python3.11/dist-packages (from spacy) (3.0.9)\n",
            "Requirement already satisfied: thinc<8.4.0,>=8.3.4 in /usr/local/lib/python3.11/dist-packages (from spacy) (8.3.4)\n",
            "Requirement already satisfied: wasabi<1.2.0,>=0.9.1 in /usr/local/lib/python3.11/dist-packages (from spacy) (1.1.3)\n",
            "Requirement already satisfied: srsly<3.0.0,>=2.4.3 in /usr/local/lib/python3.11/dist-packages (from spacy) (2.5.1)\n",
            "Requirement already satisfied: catalogue<2.1.0,>=2.0.6 in /usr/local/lib/python3.11/dist-packages (from spacy) (2.0.10)\n",
            "Requirement already satisfied: weasel<0.5.0,>=0.1.0 in /usr/local/lib/python3.11/dist-packages (from spacy) (0.4.1)\n",
            "Requirement already satisfied: typer<1.0.0,>=0.3.0 in /usr/local/lib/python3.11/dist-packages (from spacy) (0.15.2)\n",
            "Requirement already satisfied: tqdm<5.0.0,>=4.38.0 in /usr/local/lib/python3.11/dist-packages (from spacy) (4.67.1)\n",
            "Requirement already satisfied: numpy>=1.19.0 in /usr/local/lib/python3.11/dist-packages (from spacy) (2.0.2)\n",
            "Requirement already satisfied: requests<3.0.0,>=2.13.0 in /usr/local/lib/python3.11/dist-packages (from spacy) (2.32.3)\n",
            "Requirement already satisfied: pydantic!=1.8,!=1.8.1,<3.0.0,>=1.7.4 in /usr/local/lib/python3.11/dist-packages (from spacy) (2.10.6)\n",
            "Requirement already satisfied: jinja2 in /usr/local/lib/python3.11/dist-packages (from spacy) (3.1.6)\n",
            "Requirement already satisfied: setuptools in /usr/local/lib/python3.11/dist-packages (from spacy) (75.1.0)\n",
            "Requirement already satisfied: packaging>=20.0 in /usr/local/lib/python3.11/dist-packages (from spacy) (24.2)\n",
            "Requirement already satisfied: langcodes<4.0.0,>=3.2.0 in /usr/local/lib/python3.11/dist-packages (from spacy) (3.5.0)\n",
            "Requirement already satisfied: language-data>=1.2 in /usr/local/lib/python3.11/dist-packages (from langcodes<4.0.0,>=3.2.0->spacy) (1.3.0)\n",
            "Requirement already satisfied: annotated-types>=0.6.0 in /usr/local/lib/python3.11/dist-packages (from pydantic!=1.8,!=1.8.1,<3.0.0,>=1.7.4->spacy) (0.7.0)\n",
            "Requirement already satisfied: pydantic-core==2.27.2 in /usr/local/lib/python3.11/dist-packages (from pydantic!=1.8,!=1.8.1,<3.0.0,>=1.7.4->spacy) (2.27.2)\n",
            "Requirement already satisfied: typing-extensions>=4.12.2 in /usr/local/lib/python3.11/dist-packages (from pydantic!=1.8,!=1.8.1,<3.0.0,>=1.7.4->spacy) (4.12.2)\n",
            "Requirement already satisfied: charset-normalizer<4,>=2 in /usr/local/lib/python3.11/dist-packages (from requests<3.0.0,>=2.13.0->spacy) (3.4.1)\n",
            "Requirement already satisfied: idna<4,>=2.5 in /usr/local/lib/python3.11/dist-packages (from requests<3.0.0,>=2.13.0->spacy) (3.10)\n",
            "Requirement already satisfied: urllib3<3,>=1.21.1 in /usr/local/lib/python3.11/dist-packages (from requests<3.0.0,>=2.13.0->spacy) (2.3.0)\n",
            "Requirement already satisfied: certifi>=2017.4.17 in /usr/local/lib/python3.11/dist-packages (from requests<3.0.0,>=2.13.0->spacy) (2025.1.31)\n",
            "Requirement already satisfied: blis<1.3.0,>=1.2.0 in /usr/local/lib/python3.11/dist-packages (from thinc<8.4.0,>=8.3.4->spacy) (1.2.0)\n",
            "Requirement already satisfied: confection<1.0.0,>=0.0.1 in /usr/local/lib/python3.11/dist-packages (from thinc<8.4.0,>=8.3.4->spacy) (0.1.5)\n",
            "Requirement already satisfied: click>=8.0.0 in /usr/local/lib/python3.11/dist-packages (from typer<1.0.0,>=0.3.0->spacy) (8.1.8)\n",
            "Requirement already satisfied: shellingham>=1.3.0 in /usr/local/lib/python3.11/dist-packages (from typer<1.0.0,>=0.3.0->spacy) (1.5.4)\n",
            "Requirement already satisfied: rich>=10.11.0 in /usr/local/lib/python3.11/dist-packages (from typer<1.0.0,>=0.3.0->spacy) (13.9.4)\n",
            "Requirement already satisfied: cloudpathlib<1.0.0,>=0.7.0 in /usr/local/lib/python3.11/dist-packages (from weasel<0.5.0,>=0.1.0->spacy) (0.21.0)\n",
            "Requirement already satisfied: smart-open<8.0.0,>=5.2.1 in /usr/local/lib/python3.11/dist-packages (from weasel<0.5.0,>=0.1.0->spacy) (7.1.0)\n",
            "Requirement already satisfied: MarkupSafe>=2.0 in /usr/local/lib/python3.11/dist-packages (from jinja2->spacy) (3.0.2)\n",
            "Requirement already satisfied: marisa-trie>=1.1.0 in /usr/local/lib/python3.11/dist-packages (from language-data>=1.2->langcodes<4.0.0,>=3.2.0->spacy) (1.2.1)\n",
            "Requirement already satisfied: markdown-it-py>=2.2.0 in /usr/local/lib/python3.11/dist-packages (from rich>=10.11.0->typer<1.0.0,>=0.3.0->spacy) (3.0.0)\n",
            "Requirement already satisfied: pygments<3.0.0,>=2.13.0 in /usr/local/lib/python3.11/dist-packages (from rich>=10.11.0->typer<1.0.0,>=0.3.0->spacy) (2.18.0)\n",
            "Requirement already satisfied: wrapt in /usr/local/lib/python3.11/dist-packages (from smart-open<8.0.0,>=5.2.1->weasel<0.5.0,>=0.1.0->spacy) (1.17.2)\n",
            "Requirement already satisfied: mdurl~=0.1 in /usr/local/lib/python3.11/dist-packages (from markdown-it-py>=2.2.0->rich>=10.11.0->typer<1.0.0,>=0.3.0->spacy) (0.1.2)\n",
            "Collecting en-core-web-sm==3.8.0\n",
            "  Downloading https://github.com/explosion/spacy-models/releases/download/en_core_web_sm-3.8.0/en_core_web_sm-3.8.0-py3-none-any.whl (12.8 MB)\n",
            "\u001b[2K     \u001b[90m━━━━━━━━━━━━━━━━━━━━━━━━━━━━━━━━━━━━━━━━\u001b[0m \u001b[32m12.8/12.8 MB\u001b[0m \u001b[31m11.5 MB/s\u001b[0m eta \u001b[36m0:00:00\u001b[0m\n",
            "\u001b[?25h\u001b[38;5;2m✔ Download and installation successful\u001b[0m\n",
            "You can now load the package via spacy.load('en_core_web_sm')\n",
            "\u001b[38;5;3m⚠ Restart to reload dependencies\u001b[0m\n",
            "If you are in a Jupyter or Colab notebook, you may need to restart Python in\n",
            "order to load all the package's dependencies. You can do this by selecting the\n",
            "'Restart kernel' or 'Restart runtime' option.\n"
          ]
        }
      ]
    },
    {
      "cell_type": "markdown",
      "source": [
        "![image.png](data:image/png;base64,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)"
      ],
      "metadata": {
        "id": "NQL211SNJOEX"
      },
      "id": "NQL211SNJOEX"
    },
    {
      "cell_type": "code",
      "execution_count": 5,
      "id": "7788418d",
      "metadata": {
        "colab": {
          "base_uri": "https://localhost:8080/"
        },
        "id": "7788418d",
        "outputId": "04296bd9-eb77-4637-c0f3-6bbea6e020e2"
      },
      "outputs": [
        {
          "output_type": "stream",
          "name": "stdout",
          "text": [
            "['At', 'the', 'annual', 'global', 'summit', 'in', 'Paris', ',', '\\n    ', 'French', 'President', 'Emmanuel', 'Macron', 'and', '\\n    ', 'German', 'Chancellor', 'Angela', 'Merkel', '\\n    ', 'met', 'with', 'executives', 'from', 'Google', ',', '\\n    ', 'Amazon', ',', 'and', 'Facebook', 'to', 'discuss', 'innovations', '\\n    ', 'in', 'artificial', 'intelligence', '.']\n"
          ]
        }
      ],
      "source": [
        "import spacy\n",
        "\n",
        "# Load spaCy's small English model\n",
        "nlp = spacy.load('en_core_web_sm')\n",
        "\n",
        "# Apply the NLP pipeline to the text\n",
        "doc = nlp(text)\n",
        "\n",
        "# Extract tokens\n",
        "tokens_spacy = [token.text for token in doc]\n",
        "print(tokens_spacy)"
      ]
    },
    {
      "cell_type": "markdown",
      "id": "e565b660",
      "metadata": {
        "id": "e565b660"
      },
      "source": [
        "## C. Comparing Tokenization Approaches\n",
        "Let us compare the outputs of `split()` and `spaCy` tokenization. Observe how each handles punctuation, contractions, and special cases."
      ]
    },
    {
      "cell_type": "code",
      "execution_count": 6,
      "id": "b7c60861",
      "metadata": {
        "colab": {
          "base_uri": "https://localhost:8080/"
        },
        "id": "b7c60861",
        "outputId": "9ad16563-6adc-491e-ab25-36e430a36794"
      },
      "outputs": [
        {
          "output_type": "stream",
          "name": "stdout",
          "text": [
            "Split(): ['At', 'the', 'annual', 'global', 'summit', 'in', 'Paris,', 'French', 'President', 'Emmanuel', 'Macron', 'and', 'German', 'Chancellor', 'Angela', 'Merkel', 'met', 'with', 'executives', 'from', 'Google,', 'Amazon,', 'and', 'Facebook', 'to', 'discuss', 'innovations', 'in', 'artificial', 'intelligence.']\n",
            "spaCy: ['At', 'the', 'annual', 'global', 'summit', 'in', 'Paris', ',', '\\n    ', 'French', 'President', 'Emmanuel', 'Macron', 'and', '\\n    ', 'German', 'Chancellor', 'Angela', 'Merkel', '\\n    ', 'met', 'with', 'executives', 'from', 'Google', ',', '\\n    ', 'Amazon', ',', 'and', 'Facebook', 'to', 'discuss', 'innovations', '\\n    ', 'in', 'artificial', 'intelligence', '.']\n"
          ]
        }
      ],
      "source": [
        "# Print comparison\n",
        "print(\"Split():\", tokens_split)\n",
        "print(\"spaCy:\", tokens_spacy)"
      ]
    },
    {
      "cell_type": "markdown",
      "id": "5fe8f629",
      "metadata": {
        "id": "5fe8f629"
      },
      "source": [
        "## D. Part of Speech Tagging with spaCy\n",
        "[Part of Speech (POS) tagging](https://spacy.io/usage/linguistic-features) is the process of labeling each token in a sentence with its grammatical category. spaCy makes this easy by providing access to the `pos_` and `tag_` attributes of each token."
      ]
    },
    {
      "cell_type": "code",
      "execution_count": 12,
      "id": "4dc59416",
      "metadata": {
        "colab": {
          "base_uri": "https://localhost:8080/"
        },
        "id": "4dc59416",
        "outputId": "ea4afa0b-93f7-4e8f-bf33-d79aa2876436"
      },
      "outputs": [
        {
          "output_type": "stream",
          "name": "stdout",
          "text": [
            "At - at: ADP\n",
            "the - the: DET\n",
            "annual - annual: ADJ\n",
            "global - global: ADJ\n",
            "summit - summit: NOUN\n",
            "in - in: ADP\n",
            "Paris - Paris: PROPN\n",
            ", - ,: PUNCT\n",
            "\n",
            "     - \n",
            "    : SPACE\n",
            "French - french: ADJ\n",
            "President - President: PROPN\n",
            "Emmanuel - Emmanuel: PROPN\n",
            "Macron - Macron: PROPN\n",
            "and - and: CCONJ\n",
            "\n",
            "     - \n",
            "    : SPACE\n",
            "German - German: PROPN\n",
            "Chancellor - Chancellor: PROPN\n",
            "Angela - Angela: PROPN\n",
            "Merkel - Merkel: PROPN\n",
            "\n",
            "     - \n",
            "    : SPACE\n",
            "met - meet: VERB\n",
            "with - with: ADP\n",
            "executives - executive: NOUN\n",
            "from - from: ADP\n",
            "Google - Google: PROPN\n",
            ", - ,: PUNCT\n",
            "\n",
            "     - \n",
            "    : SPACE\n",
            "Amazon - Amazon: PROPN\n",
            ", - ,: PUNCT\n",
            "and - and: CCONJ\n",
            "Facebook - Facebook: PROPN\n",
            "to - to: PART\n",
            "discuss - discuss: VERB\n",
            "innovations - innovation: NOUN\n",
            "\n",
            "     - \n",
            "    : SPACE\n",
            "in - in: ADP\n",
            "artificial - artificial: ADJ\n",
            "intelligence - intelligence: NOUN\n",
            ". - .: PUNCT\n"
          ]
        }
      ],
      "source": [
        "for token in doc:\n",
        "    print(f\"{token.text} - {token.lemma_}: {token.pos_}\")\n",
        "\n",
        "# Example explanation:\n",
        "# - `lemma_` : The base/dictionary form of a word.\n",
        "# - `pos_`: Coarse-grained part of speech, e.g., NOUN, VERB, etc."
      ]
    },
    {
      "cell_type": "markdown",
      "id": "252371d5",
      "metadata": {
        "id": "252371d5"
      },
      "source": [
        "## F. Named Entity Recognition with spaCy\n",
        "[Named Entity Recognition (NER)](https://www.geeksforgeeks.org/python-named-entity-recognition-ner-using-spacy/) involves identifying proper nouns and entities in the text, such as people, organizations, dates, and locations. spaCy provides a pre-trained NER pipeline that can extract entities with their types."
      ]
    },
    {
      "cell_type": "code",
      "execution_count": 13,
      "id": "705b8694",
      "metadata": {
        "colab": {
          "base_uri": "https://localhost:8080/"
        },
        "id": "705b8694",
        "outputId": "dfe9261c-1c0a-4358-925d-78c3e890f222"
      },
      "outputs": [
        {
          "output_type": "stream",
          "name": "stdout",
          "text": [
            "annual: DATE (Absolute or relative dates or periods)\n",
            "Paris: GPE (Countries, cities, states)\n",
            "French: NORP (Nationalities or religious or political groups)\n",
            "Emmanuel Macron: PERSON (People, including fictional)\n",
            "German: NORP (Nationalities or religious or political groups)\n",
            "Angela Merkel: PERSON (People, including fictional)\n",
            "Google: ORG (Companies, agencies, institutions, etc.)\n",
            "Amazon: ORG (Companies, agencies, institutions, etc.)\n"
          ]
        }
      ],
      "source": [
        "# Display named entities in the text\n",
        "for ent in doc.ents:\n",
        "    print(f\"{ent.text}: {ent.label_} ({spacy.explain(ent.label_)})\")\n",
        "\n",
        "# Example explanation:\n",
        "# - `text`: The entity as it appears in the text.\n",
        "# - `label_`: The type of the entity, e.g., PERSON, GPE (Geo-Political Entity), DATE."
      ]
    },
    {
      "cell_type": "markdown",
      "id": "ede57e69",
      "metadata": {
        "id": "ede57e69"
      },
      "source": [
        "### Visualizing Entities\n",
        "spaCy also allows us to visualize entities in text using the `displacy` module."
      ]
    },
    {
      "cell_type": "code",
      "execution_count": 9,
      "id": "0c31b94c",
      "metadata": {
        "colab": {
          "base_uri": "https://localhost:8080/",
          "height": 227
        },
        "id": "0c31b94c",
        "outputId": "92da6bd8-7eb7-445a-8df5-de53fa4f0f87"
      },
      "outputs": [
        {
          "output_type": "display_data",
          "data": {
            "text/plain": [
              "<IPython.core.display.HTML object>"
            ],
            "text/html": [
              "<span class=\"tex2jax_ignore\"><div class=\"entities\" style=\"line-height: 2.5; direction: ltr\">At the \n",
              "<mark class=\"entity\" style=\"background: #bfe1d9; padding: 0.45em 0.6em; margin: 0 0.25em; line-height: 1; border-radius: 0.35em;\">\n",
              "    annual\n",
              "    <span style=\"font-size: 0.8em; font-weight: bold; line-height: 1; border-radius: 0.35em; vertical-align: middle; margin-left: 0.5rem\">DATE</span>\n",
              "</mark>\n",
              " global summit in \n",
              "<mark class=\"entity\" style=\"background: #feca74; padding: 0.45em 0.6em; margin: 0 0.25em; line-height: 1; border-radius: 0.35em;\">\n",
              "    Paris\n",
              "    <span style=\"font-size: 0.8em; font-weight: bold; line-height: 1; border-radius: 0.35em; vertical-align: middle; margin-left: 0.5rem\">GPE</span>\n",
              "</mark>\n",
              ", <br>    \n",
              "<mark class=\"entity\" style=\"background: #c887fb; padding: 0.45em 0.6em; margin: 0 0.25em; line-height: 1; border-radius: 0.35em;\">\n",
              "    French\n",
              "    <span style=\"font-size: 0.8em; font-weight: bold; line-height: 1; border-radius: 0.35em; vertical-align: middle; margin-left: 0.5rem\">NORP</span>\n",
              "</mark>\n",
              " President \n",
              "<mark class=\"entity\" style=\"background: #aa9cfc; padding: 0.45em 0.6em; margin: 0 0.25em; line-height: 1; border-radius: 0.35em;\">\n",
              "    Emmanuel Macron\n",
              "    <span style=\"font-size: 0.8em; font-weight: bold; line-height: 1; border-radius: 0.35em; vertical-align: middle; margin-left: 0.5rem\">PERSON</span>\n",
              "</mark>\n",
              " and <br>    \n",
              "<mark class=\"entity\" style=\"background: #c887fb; padding: 0.45em 0.6em; margin: 0 0.25em; line-height: 1; border-radius: 0.35em;\">\n",
              "    German\n",
              "    <span style=\"font-size: 0.8em; font-weight: bold; line-height: 1; border-radius: 0.35em; vertical-align: middle; margin-left: 0.5rem\">NORP</span>\n",
              "</mark>\n",
              " Chancellor \n",
              "<mark class=\"entity\" style=\"background: #aa9cfc; padding: 0.45em 0.6em; margin: 0 0.25em; line-height: 1; border-radius: 0.35em;\">\n",
              "    Angela Merkel\n",
              "    <span style=\"font-size: 0.8em; font-weight: bold; line-height: 1; border-radius: 0.35em; vertical-align: middle; margin-left: 0.5rem\">PERSON</span>\n",
              "</mark>\n",
              " <br>    met with executives from \n",
              "<mark class=\"entity\" style=\"background: #7aecec; padding: 0.45em 0.6em; margin: 0 0.25em; line-height: 1; border-radius: 0.35em;\">\n",
              "    Google\n",
              "    <span style=\"font-size: 0.8em; font-weight: bold; line-height: 1; border-radius: 0.35em; vertical-align: middle; margin-left: 0.5rem\">ORG</span>\n",
              "</mark>\n",
              ", <br>    \n",
              "<mark class=\"entity\" style=\"background: #7aecec; padding: 0.45em 0.6em; margin: 0 0.25em; line-height: 1; border-radius: 0.35em;\">\n",
              "    Amazon\n",
              "    <span style=\"font-size: 0.8em; font-weight: bold; line-height: 1; border-radius: 0.35em; vertical-align: middle; margin-left: 0.5rem\">ORG</span>\n",
              "</mark>\n",
              ", and Facebook to discuss innovations <br>    in artificial intelligence.</div></span>"
            ]
          },
          "metadata": {}
        }
      ],
      "source": [
        "from spacy import displacy\n",
        "\n",
        "# Render the named entities\n",
        "displacy.render(doc, style='ent', jupyter=True)\n",
        "# Note: Run this in a Jupyter Notebook to see the visualization."
      ]
    }
  ],
  "metadata": {
    "colab": {
      "provenance": []
    },
    "language_info": {
      "name": "python"
    },
    "kernelspec": {
      "name": "python3",
      "display_name": "Python 3"
    }
  },
  "nbformat": 4,
  "nbformat_minor": 5
}