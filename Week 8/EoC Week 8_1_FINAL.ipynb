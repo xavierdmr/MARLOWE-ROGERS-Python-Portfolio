{
 "cells": [
  {
   "cell_type": "markdown",
   "metadata": {},
   "source": [
    "# SQLite & SQL Querying with Python\n",
    "In this notebook our goals are to:\n",
    "- Connect to a SQLite database (using the Sakila database)\n",
    "- List all tables in the database\n",
    "- Retrieve column names from the 'customer' table using PRAGMA\n",
    "- Execute basic SQL queries to explore and filter data\n",
    "\n",
    "These notes will help you understand how to interact with SQL using Python."
   ]
  },
  {
   "cell_type": "code",
   "execution_count": 1,
   "metadata": {},
   "outputs": [
    {
     "name": "stdout",
     "output_type": "stream",
     "text": [
      "Connected to SQLite Sakila database!\n"
     ]
    }
   ],
   "source": [
    "import sqlite3\n",
    "import pandas as pd\n",
    "\n",
    "# Set the path to the SQLite database\n",
    "db_path = \"sakila.db\"\n",
    "\n",
    "# Connect to SQLite database\n",
    "conn = sqlite3.connect(db_path)\n",
    "print(\"Connected to SQLite Sakila database!\")"
   ]
  },
  {
   "cell_type": "markdown",
   "metadata": {},
   "source": [
    "## List all tables in the database\n",
    "Here we query the 'sqlite_master' table, which holds the schema info inside of the .db file."
   ]
  },
  {
   "cell_type": "code",
   "execution_count": 2,
   "metadata": {},
   "outputs": [
    {
     "name": "stdout",
     "output_type": "stream",
     "text": [
      "Tables in the database:\n",
      "               name\n",
      "0             actor\n",
      "1           country\n",
      "2              city\n",
      "3           address\n",
      "4          language\n",
      "5          category\n",
      "6          customer\n",
      "7              film\n",
      "8        film_actor\n",
      "9     film_category\n",
      "10        film_text\n",
      "11        inventory\n",
      "12            staff\n",
      "13            store\n",
      "14          payment\n",
      "15           rental\n",
      "16        customers\n",
      "17  sqlite_sequence\n",
      "18       test_table\n"
     ]
    }
   ],
   "source": [
    "# List all tables in the database\n",
    "tables = pd.read_sql(\"\"\"SELECT name \n",
    "                        FROM sqlite_master \n",
    "                        WHERE type='table';\"\"\", conn)\n",
    "\n",
    "print(\"Tables in the database:\")\n",
    "print(tables)"
   ]
  },
  {
   "cell_type": "markdown",
   "metadata": {},
   "source": [
    "## Retrieve column names from the 'customer' table using PRAGMA table_info.\n",
    "- SQLite allows you to inspect table schema with the PRAGMA command.\n",
    "- For SQLite 3.16 or later, you can query it like a table."
   ]
  },
  {
   "cell_type": "code",
   "execution_count": 3,
   "metadata": {},
   "outputs": [
    {
     "name": "stdout",
     "output_type": "stream",
     "text": [
      "\n",
      "Customer Table Columns:\n",
      "          name\n",
      "0  customer_id\n",
      "1     store_id\n",
      "2   first_name\n",
      "3    last_name\n",
      "4        email\n",
      "5   address_id\n",
      "6       active\n",
      "7  create_date\n",
      "8  last_update\n"
     ]
    }
   ],
   "source": [
    "query_sort = \"\"\"SELECT name \n",
    "                FROM pragma_table_info('customer');\"\"\"\n",
    "\n",
    "df_sort = pd.read_sql(query_sort, conn)\n",
    "print(\"\\nCustomer Table Columns:\")\n",
    "print(df_sort)"
   ]
  },
  {
   "cell_type": "markdown",
   "metadata": {},
   "source": [
    "## Basic SELECT: Retrieve all customer data\n",
    "This query selects all columns and rows from the 'customer' table."
   ]
  },
  {
   "cell_type": "code",
   "execution_count": 4,
   "metadata": {},
   "outputs": [
    {
     "name": "stdout",
     "output_type": "stream",
     "text": [
      "All Customers:\n",
      "     customer_id  store_id first_name  last_name  \\\n",
      "0              1         1       MARY      SMITH   \n",
      "1              2         1   PATRICIA    JOHNSON   \n",
      "2              3         1      LINDA   WILLIAMS   \n",
      "3              4         2    BARBARA      JONES   \n",
      "4              5         1  ELIZABETH      BROWN   \n",
      "..           ...       ...        ...        ...   \n",
      "594          595         1   TERRENCE  GUNDERSON   \n",
      "595          596         1    ENRIQUE   FORSYTHE   \n",
      "596          597         1    FREDDIE     DUGGAN   \n",
      "597          598         1       WADE   DELVALLE   \n",
      "598          599         2     AUSTIN    CINTRON   \n",
      "\n",
      "                                     email  address_id active  \\\n",
      "0            MARY.SMITH@sakilacustomer.org           5      1   \n",
      "1      PATRICIA.JOHNSON@sakilacustomer.org           6      1   \n",
      "2        LINDA.WILLIAMS@sakilacustomer.org           7      1   \n",
      "3         BARBARA.JONES@sakilacustomer.org           8      1   \n",
      "4       ELIZABETH.BROWN@sakilacustomer.org           9      1   \n",
      "..                                     ...         ...    ...   \n",
      "594  TERRENCE.GUNDERSON@sakilacustomer.org         601      1   \n",
      "595    ENRIQUE.FORSYTHE@sakilacustomer.org         602      1   \n",
      "596      FREDDIE.DUGGAN@sakilacustomer.org         603      1   \n",
      "597       WADE.DELVALLE@sakilacustomer.org         604      1   \n",
      "598      AUSTIN.CINTRON@sakilacustomer.org         605      1   \n",
      "\n",
      "                 create_date          last_update  \n",
      "0    2006-02-14 22:04:36.000  2021-03-06 15:53:36  \n",
      "1    2006-02-14 22:04:36.000  2021-03-06 15:53:36  \n",
      "2    2006-02-14 22:04:36.000  2021-03-06 15:53:36  \n",
      "3    2006-02-14 22:04:36.000  2021-03-06 15:53:36  \n",
      "4    2006-02-14 22:04:36.000  2021-03-06 15:53:36  \n",
      "..                       ...                  ...  \n",
      "594  2006-02-14 22:04:37.000  2021-03-06 15:53:41  \n",
      "595  2006-02-14 22:04:37.000  2021-03-06 15:53:41  \n",
      "596  2006-02-14 22:04:37.000  2021-03-06 15:53:41  \n",
      "597  2006-02-14 22:04:37.000  2021-03-06 15:53:41  \n",
      "598  2006-02-14 22:04:37.000  2021-03-06 15:53:41  \n",
      "\n",
      "[599 rows x 9 columns]\n"
     ]
    }
   ],
   "source": [
    "query_all = \"\"\"SELECT * \n",
    "               FROM customer\"\"\"\n",
    "df_all = pd.read_sql(query_all, conn)\n",
    "print(\"All Customers:\")\n",
    "print(df_all)"
   ]
  },
  {
   "cell_type": "markdown",
   "metadata": {},
   "source": [
    "## Filtering data: Retrieve only active customers.\n",
    "- The WHERE clause filters records where the 'active' column equals 1."
   ]
  },
  {
   "cell_type": "code",
   "execution_count": 5,
   "metadata": {},
   "outputs": [
    {
     "name": "stdout",
     "output_type": "stream",
     "text": [
      "\n",
      "Customers Who Are Active:\n",
      "     last_name first_name active\n",
      "0        SMITH       MARY      1\n",
      "1      JOHNSON   PATRICIA      1\n",
      "2     WILLIAMS      LINDA      1\n",
      "3        JONES    BARBARA      1\n",
      "4        BROWN  ELIZABETH      1\n",
      "..         ...        ...    ...\n",
      "579  GUNDERSON   TERRENCE      1\n",
      "580   FORSYTHE    ENRIQUE      1\n",
      "581     DUGGAN    FREDDIE      1\n",
      "582   DELVALLE       WADE      1\n",
      "583    CINTRON     AUSTIN      1\n",
      "\n",
      "[584 rows x 3 columns]\n"
     ]
    }
   ],
   "source": [
    "query_filter = \"\"\"SELECT last_name, first_name, active \n",
    "                    FROM customer \n",
    "                    WHERE active = 1\"\"\"\n",
    "\n",
    "df_filter = pd.read_sql(query_filter, conn)\n",
    "print(\"\\nCustomers Who Are Active:\")\n",
    "print(df_filter)\n"
   ]
  },
  {
   "cell_type": "markdown",
   "metadata": {},
   "source": [
    "## Sorting data: Order customers by the last_update field in descending order.\n",
    "- Sorting is useful to see the most recent updates first.\n",
    "- Only show the first 10 entries."
   ]
  },
  {
   "cell_type": "code",
   "execution_count": 6,
   "metadata": {},
   "outputs": [
    {
     "name": "stdout",
     "output_type": "stream",
     "text": [
      "\n",
      "Customers Ordered by Age (Desc):\n",
      "   last_name first_name          last_update\n",
      "0       TEEL   SALVADOR  2021-03-06 15:53:41\n",
      "1   SWAFFORD      PERRY  2021-03-06 15:53:41\n",
      "2    STCLAIR       KIRK  2021-03-06 15:53:41\n",
      "3  STANFIELD     SERGIO  2021-03-06 15:53:41\n",
      "4     OCAMPO     MARION  2021-03-06 15:53:41\n",
      "5   HERRMANN      TRACY  2021-03-06 15:53:41\n",
      "6     HANNON       SETH  2021-03-06 15:53:41\n",
      "7  ARSENAULT       KENT  2021-03-06 15:53:41\n",
      "8      ROUSH   TERRANCE  2021-03-06 15:53:41\n",
      "9  MCALISTER       RENE  2021-03-06 15:53:41\n"
     ]
    }
   ],
   "source": [
    "query_sort = \"\"\"SELECT last_name, first_name, last_update\n",
    "                FROM customer \n",
    "                ORDER BY last_update DESC\n",
    "                LIMIT 10\"\"\"\n",
    "\n",
    "df_sort = pd.read_sql(query_sort, conn)\n",
    "print(\"\\nCustomers Ordered by Age (Desc):\")\n",
    "print(df_sort)\n"
   ]
  },
  {
   "cell_type": "markdown",
   "metadata": {},
   "source": [
    "# Group Exercises\n",
    "- Find a neighbor, yes, move around and make a new friend!\n",
    "- Work through the following practice exercises together."
   ]
  },
  {
   "cell_type": "markdown",
   "metadata": {},
   "source": [
    "## 1. Explore the actor Table\n",
    "- 1. Write a query to display all columns for every actor in the actor table.\n",
    "\n",
    "- 2. Show only the actor_id, first_name, and last_name columns, and sort by last_name in ascending order."
   ]
  },
  {
   "cell_type": "code",
   "execution_count": 7,
   "metadata": {},
   "outputs": [
    {
     "name": "stdout",
     "output_type": "stream",
     "text": [
      "\n",
      "Customers Ordered Last Name:\n",
      "     actor_id first_name  last_name\n",
      "0          58  CHRISTIAN     AKROYD\n",
      "1          92    KIRSTEN     AKROYD\n",
      "2         182     DEBBIE     AKROYD\n",
      "3         118       CUBA      ALLEN\n",
      "4         145        KIM      ALLEN\n",
      "..        ...        ...        ...\n",
      "195       156        FAY       WOOD\n",
      "196        63    CAMERON       WRAY\n",
      "197        85     MINNIE  ZELLWEGER\n",
      "198       111    CAMERON  ZELLWEGER\n",
      "199       186      JULIA  ZELLWEGER\n",
      "\n",
      "[200 rows x 3 columns]\n"
     ]
    }
   ],
   "source": [
    "query_sort = \"\"\"\n",
    "SELECT actor_id, first_name, last_name \n",
    "FROM actor \n",
    "ORDER BY last_name;\n",
    "\"\"\"\n",
    "\n",
    "df_sort = pd.read_sql(query_sort, conn)\n",
    "print(\"\\nCustomers Ordered Last Name:\")\n",
    "print(df_sort)"
   ]
  },
  {
   "cell_type": "markdown",
   "metadata": {},
   "source": [
    "## 2. Filter and Sort Data in the film Table\n",
    "1. Films with a Specific Rating\n",
    "- Return the film_id, title, and rating of all films where rating = 'PG'.\n",
    "- Bonus: Are there films \"greater than (>)\" 'PG'?\n",
    "\n",
    "2. Films with Rental Rate Above 2.99\n",
    "- Display the film_id, title, rental_rate, and length for films where the rental_rate is greater than 2.99. Sort them by the shortest length to longest.\n",
    "\n",
    "3. Longest Films\n",
    "- List the top 15 longest films (by length), showing title and length. Sort them from longest to shortest."
   ]
  },
  {
   "cell_type": "code",
   "execution_count": 8,
   "metadata": {},
   "outputs": [
    {
     "name": "stdout",
     "output_type": "stream",
     "text": [
      "\n",
      "Films Rated PG:\n",
      "     film_id                 title rating\n",
      "0          1      ACADEMY DINOSAUR     PG\n",
      "1          6          AGENT TRUMAN     PG\n",
      "2         12        ALASKA PHANTOM     PG\n",
      "3         13           ALI FOREVER     PG\n",
      "4         19          AMADEUS HOLY     PG\n",
      "..       ...                   ...    ...\n",
      "189      980    WIZARD COLDBLOODED     PG\n",
      "190      983             WON DARES     PG\n",
      "191      985  WONDERLAND CHRISTMAS     PG\n",
      "192      987          WORDS HUNTER     PG\n",
      "193      991          WORST BANGER     PG\n",
      "\n",
      "[194 rows x 3 columns]\n"
     ]
    }
   ],
   "source": [
    "query_sort = \"\"\"\n",
    "SELECT film_id, title, rating \n",
    "FROM film \n",
    "WHERE rating = 'PG';\n",
    "\"\"\"\n",
    "\n",
    "df_sort = pd.read_sql(query_sort, conn)\n",
    "print(\"\\nFilms Rated PG:\")\n",
    "print(df_sort)"
   ]
  },
  {
   "cell_type": "code",
   "execution_count": 9,
   "metadata": {},
   "outputs": [
    {
     "name": "stdout",
     "output_type": "stream",
     "text": [
      "\n",
      "Films with rental_rate > 2.99\n",
      "     film_id                title  rental_rate  length\n",
      "0        469            IRON MOON         4.99      46\n",
      "1        398       HANOVER GALAXY         4.99      47\n",
      "2          2       ACE GOLDFINGER         4.99      48\n",
      "3        575  MIDSUMMER GROUNDHOG         4.99      48\n",
      "4        670     PELICAN COMFORTS         4.99      48\n",
      "..       ...                  ...          ...     ...\n",
      "331      141        CHICAGO NORTH         4.99     185\n",
      "332      182       CONTROL ANTHEM         4.99     185\n",
      "333      212       DARN FORRESTER         4.99     185\n",
      "334      426            HOME PITY         4.99     185\n",
      "335      817   SOLDIERS EVOLUTION         4.99     185\n",
      "\n",
      "[336 rows x 4 columns]\n"
     ]
    }
   ],
   "source": [
    "query_sort = \"\"\"\n",
    "SELECT film_id, title, rental_rate, length \n",
    "FROM film \n",
    "WHERE rental_rate > 2.99 \n",
    "ORDER BY length;\n",
    "\"\"\"\n",
    "\n",
    "df_sort = pd.read_sql(query_sort, conn)\n",
    "print(\"\\nFilms with rental_rate > 2.99\")\n",
    "print(df_sort)"
   ]
  },
  {
   "cell_type": "code",
   "execution_count": 10,
   "metadata": {},
   "outputs": [
    {
     "name": "stdout",
     "output_type": "stream",
     "text": [
      "\n",
      "Top 10 Longest Films\n",
      "    film_id               title  length\n",
      "0       141       CHICAGO NORTH     185\n",
      "1       182      CONTROL ANTHEM     185\n",
      "2       212      DARN FORRESTER     185\n",
      "3       349         GANGS PRIDE     185\n",
      "4       426           HOME PITY     185\n",
      "5       609       MUSCLE BRIGHT     185\n",
      "6       690        POND SEATTLE     185\n",
      "7       817  SOLDIERS EVOLUTION     185\n",
      "8       872   SWEET BROTHERHOOD     185\n",
      "9       991        WORST BANGER     185\n",
      "10      180   CONSPIRACY SPIRIT     184\n",
      "11      198    CRYSTAL BREAKING     184\n",
      "12      499      KING EVOLUTION     184\n",
      "13      597     MOONWALKER FOOL     184\n",
      "14      813     SMOOCHY CONTROL     184\n"
     ]
    }
   ],
   "source": [
    "query_sort = \"\"\"\n",
    "SELECT film_id, title, length \n",
    "FROM film \n",
    "ORDER BY length DESC\n",
    "LIMIT 15;\n",
    "\"\"\"\n",
    "\n",
    "df_sort = pd.read_sql(query_sort, conn)\n",
    "print(\"\\nTop 10 Longest Films\")\n",
    "print(df_sort)"
   ]
  },
  {
   "cell_type": "markdown",
   "metadata": {},
   "source": [
    "## Close the connection to the database.\n",
    "Always close the connection when you're done to free up resources."
   ]
  },
  {
   "cell_type": "code",
   "execution_count": 11,
   "metadata": {},
   "outputs": [],
   "source": [
    "# Close the connection\n",
    "conn.close()"
   ]
  }
 ],
 "metadata": {
  "kernelspec": {
   "display_name": "base",
   "language": "python",
   "name": "python3"
  },
  "language_info": {
   "codemirror_mode": {
    "name": "ipython",
    "version": 3
   },
   "file_extension": ".py",
   "mimetype": "text/x-python",
   "name": "python",
   "nbconvert_exporter": "python",
   "pygments_lexer": "ipython3",
   "version": "3.12.7"
  }
 },
 "nbformat": 4,
 "nbformat_minor": 2
}
